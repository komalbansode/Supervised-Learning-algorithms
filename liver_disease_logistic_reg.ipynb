{
 "cells": [
  {
   "cell_type": "markdown",
   "metadata": {},
   "source": [
    "# Problem Statement\n",
    "\n",
    "The given dataset is related to Indian patients who have been tested for a liver disease.\n",
    "Based on chemical compounds (bilrubin,albumin,protiens,alkaline phosphatase) present in human body and tests like SGOT, SGPT the outcome mentioned is whether person is a patient i.e, whether he needs to be diagnosed further or not.\n",
    "Perform data cleansing, and required transformations and build a predictive model which will be able to predict most of the cases accurately.\n",
    "\n",
    "## Following are the feature names for the given data:\n",
    "Age,Gender,Total_Bilirubin,Direct_Bilirubin,Alkaline_Phosphotase,\n",
    "Alamine_Aminotransferase,Aspartate_Aminotransferase,Total_Protiens,Albumin,\n",
    "Albumin_and_Globulin_Ratio,Class.\n",
    "\n"
   ]
  },
  {
   "cell_type": "code",
   "execution_count": 1,
   "metadata": {},
   "outputs": [],
   "source": [
    "# Importing the required libraries\n",
    "import matplotlib.pyplot as plt\n",
    "import numpy as np\n",
    "import pandas as pd"
   ]
  },
  {
   "cell_type": "code",
   "execution_count": 2,
   "metadata": {},
   "outputs": [],
   "source": [
    "#loading data \n",
    "ind_pat = pd.read_csv('IndianLiverPatientData.txt', delimiter=\"\\t\" ,names=('Age','Gender','Total_Bilirubin',\n",
    "                    'Direct_Bilirubin','Alkaline_Phosphotase','Alamine_Aminotransferase','Aspartate_Aminotransferase',\n",
    "                     'Total_Protiens','Albumin','Albumin_and_Globulin_Ratio','Class'))"
   ]
  },
  {
   "cell_type": "code",
   "execution_count": 3,
   "metadata": {},
   "outputs": [
    {
     "data": {
      "text/html": [
       "<div>\n",
       "<style scoped>\n",
       "    .dataframe tbody tr th:only-of-type {\n",
       "        vertical-align: middle;\n",
       "    }\n",
       "\n",
       "    .dataframe tbody tr th {\n",
       "        vertical-align: top;\n",
       "    }\n",
       "\n",
       "    .dataframe thead th {\n",
       "        text-align: right;\n",
       "    }\n",
       "</style>\n",
       "<table border=\"1\" class=\"dataframe\">\n",
       "  <thead>\n",
       "    <tr style=\"text-align: right;\">\n",
       "      <th></th>\n",
       "      <th>Age</th>\n",
       "      <th>Gender</th>\n",
       "      <th>Total_Bilirubin</th>\n",
       "      <th>Direct_Bilirubin</th>\n",
       "      <th>Alkaline_Phosphotase</th>\n",
       "      <th>Alamine_Aminotransferase</th>\n",
       "      <th>Aspartate_Aminotransferase</th>\n",
       "      <th>Total_Protiens</th>\n",
       "      <th>Albumin</th>\n",
       "      <th>Albumin_and_Globulin_Ratio</th>\n",
       "      <th>Class</th>\n",
       "    </tr>\n",
       "  </thead>\n",
       "  <tbody>\n",
       "    <tr>\n",
       "      <th>1</th>\n",
       "      <td>65</td>\n",
       "      <td>Female</td>\n",
       "      <td>0.7</td>\n",
       "      <td>0.1</td>\n",
       "      <td>187</td>\n",
       "      <td>16</td>\n",
       "      <td>18</td>\n",
       "      <td>6.8</td>\n",
       "      <td>3.3</td>\n",
       "      <td>0.90</td>\n",
       "      <td>No</td>\n",
       "    </tr>\n",
       "    <tr>\n",
       "      <th>2</th>\n",
       "      <td>62</td>\n",
       "      <td>Male</td>\n",
       "      <td>10.9</td>\n",
       "      <td>5.5</td>\n",
       "      <td>699</td>\n",
       "      <td>64</td>\n",
       "      <td>100</td>\n",
       "      <td>7.5</td>\n",
       "      <td>3.2</td>\n",
       "      <td>0.74</td>\n",
       "      <td>No</td>\n",
       "    </tr>\n",
       "    <tr>\n",
       "      <th>3</th>\n",
       "      <td>62</td>\n",
       "      <td>Male</td>\n",
       "      <td>7.3</td>\n",
       "      <td>4.1</td>\n",
       "      <td>490</td>\n",
       "      <td>60</td>\n",
       "      <td>68</td>\n",
       "      <td>7.0</td>\n",
       "      <td>3.3</td>\n",
       "      <td>0.89</td>\n",
       "      <td>No</td>\n",
       "    </tr>\n",
       "    <tr>\n",
       "      <th>4</th>\n",
       "      <td>58</td>\n",
       "      <td>Male</td>\n",
       "      <td>1.0</td>\n",
       "      <td>0.4</td>\n",
       "      <td>182</td>\n",
       "      <td>14</td>\n",
       "      <td>20</td>\n",
       "      <td>6.8</td>\n",
       "      <td>3.4</td>\n",
       "      <td>1.00</td>\n",
       "      <td>No</td>\n",
       "    </tr>\n",
       "    <tr>\n",
       "      <th>5</th>\n",
       "      <td>72</td>\n",
       "      <td>Male</td>\n",
       "      <td>3.9</td>\n",
       "      <td>2.0</td>\n",
       "      <td>195</td>\n",
       "      <td>27</td>\n",
       "      <td>59</td>\n",
       "      <td>7.3</td>\n",
       "      <td>2.4</td>\n",
       "      <td>0.40</td>\n",
       "      <td>No</td>\n",
       "    </tr>\n",
       "  </tbody>\n",
       "</table>\n",
       "</div>"
      ],
      "text/plain": [
       "   Age  Gender  Total_Bilirubin  Direct_Bilirubin  Alkaline_Phosphotase  \\\n",
       "1   65  Female              0.7               0.1                   187   \n",
       "2   62    Male             10.9               5.5                   699   \n",
       "3   62    Male              7.3               4.1                   490   \n",
       "4   58    Male              1.0               0.4                   182   \n",
       "5   72    Male              3.9               2.0                   195   \n",
       "\n",
       "   Alamine_Aminotransferase  Aspartate_Aminotransferase  Total_Protiens  \\\n",
       "1                        16                          18             6.8   \n",
       "2                        64                         100             7.5   \n",
       "3                        60                          68             7.0   \n",
       "4                        14                          20             6.8   \n",
       "5                        27                          59             7.3   \n",
       "\n",
       "   Albumin  Albumin_and_Globulin_Ratio Class  \n",
       "1      3.3                        0.90    No  \n",
       "2      3.2                        0.74    No  \n",
       "3      3.3                        0.89    No  \n",
       "4      3.4                        1.00    No  \n",
       "5      2.4                        0.40    No  "
      ]
     },
     "execution_count": 3,
     "metadata": {},
     "output_type": "execute_result"
    }
   ],
   "source": [
    "ind_pat.head()"
   ]
  },
  {
   "cell_type": "code",
   "execution_count": 4,
   "metadata": {},
   "outputs": [
    {
     "name": "stdout",
     "output_type": "stream",
     "text": [
      "<class 'pandas.core.frame.DataFrame'>\n",
      "Int64Index: 583 entries, 1 to 583\n",
      "Data columns (total 11 columns):\n",
      "Age                           583 non-null int64\n",
      "Gender                        563 non-null object\n",
      "Total_Bilirubin               583 non-null float64\n",
      "Direct_Bilirubin              583 non-null float64\n",
      "Alkaline_Phosphotase          583 non-null int64\n",
      "Alamine_Aminotransferase      583 non-null int64\n",
      "Aspartate_Aminotransferase    583 non-null int64\n",
      "Total_Protiens                568 non-null float64\n",
      "Albumin                       583 non-null float64\n",
      "Albumin_and_Globulin_Ratio    579 non-null float64\n",
      "Class                         583 non-null object\n",
      "dtypes: float64(5), int64(4), object(2)\n",
      "memory usage: 54.7+ KB\n"
     ]
    }
   ],
   "source": [
    "ind_pat.info()"
   ]
  },
  {
   "cell_type": "code",
   "execution_count": 5,
   "metadata": {},
   "outputs": [
    {
     "data": {
      "text/html": [
       "<div>\n",
       "<style scoped>\n",
       "    .dataframe tbody tr th:only-of-type {\n",
       "        vertical-align: middle;\n",
       "    }\n",
       "\n",
       "    .dataframe tbody tr th {\n",
       "        vertical-align: top;\n",
       "    }\n",
       "\n",
       "    .dataframe thead th {\n",
       "        text-align: right;\n",
       "    }\n",
       "</style>\n",
       "<table border=\"1\" class=\"dataframe\">\n",
       "  <thead>\n",
       "    <tr style=\"text-align: right;\">\n",
       "      <th></th>\n",
       "      <th>Age</th>\n",
       "      <th>Total_Bilirubin</th>\n",
       "      <th>Direct_Bilirubin</th>\n",
       "      <th>Alkaline_Phosphotase</th>\n",
       "      <th>Alamine_Aminotransferase</th>\n",
       "      <th>Aspartate_Aminotransferase</th>\n",
       "      <th>Total_Protiens</th>\n",
       "      <th>Albumin</th>\n",
       "      <th>Albumin_and_Globulin_Ratio</th>\n",
       "    </tr>\n",
       "  </thead>\n",
       "  <tbody>\n",
       "    <tr>\n",
       "      <th>count</th>\n",
       "      <td>583.000000</td>\n",
       "      <td>583.000000</td>\n",
       "      <td>583.000000</td>\n",
       "      <td>583.000000</td>\n",
       "      <td>583.000000</td>\n",
       "      <td>583.000000</td>\n",
       "      <td>568.000000</td>\n",
       "      <td>583.000000</td>\n",
       "      <td>579.000000</td>\n",
       "    </tr>\n",
       "    <tr>\n",
       "      <th>mean</th>\n",
       "      <td>44.746141</td>\n",
       "      <td>3.298799</td>\n",
       "      <td>1.486106</td>\n",
       "      <td>290.576329</td>\n",
       "      <td>80.713551</td>\n",
       "      <td>109.910806</td>\n",
       "      <td>6.483979</td>\n",
       "      <td>3.141852</td>\n",
       "      <td>0.947064</td>\n",
       "    </tr>\n",
       "    <tr>\n",
       "      <th>std</th>\n",
       "      <td>16.189833</td>\n",
       "      <td>6.209522</td>\n",
       "      <td>2.808498</td>\n",
       "      <td>242.937989</td>\n",
       "      <td>182.620356</td>\n",
       "      <td>288.918529</td>\n",
       "      <td>1.084039</td>\n",
       "      <td>0.795519</td>\n",
       "      <td>0.319592</td>\n",
       "    </tr>\n",
       "    <tr>\n",
       "      <th>min</th>\n",
       "      <td>4.000000</td>\n",
       "      <td>0.400000</td>\n",
       "      <td>0.100000</td>\n",
       "      <td>63.000000</td>\n",
       "      <td>10.000000</td>\n",
       "      <td>10.000000</td>\n",
       "      <td>2.700000</td>\n",
       "      <td>0.900000</td>\n",
       "      <td>0.300000</td>\n",
       "    </tr>\n",
       "    <tr>\n",
       "      <th>25%</th>\n",
       "      <td>33.000000</td>\n",
       "      <td>0.800000</td>\n",
       "      <td>0.200000</td>\n",
       "      <td>175.500000</td>\n",
       "      <td>23.000000</td>\n",
       "      <td>25.000000</td>\n",
       "      <td>5.800000</td>\n",
       "      <td>2.600000</td>\n",
       "      <td>0.700000</td>\n",
       "    </tr>\n",
       "    <tr>\n",
       "      <th>50%</th>\n",
       "      <td>45.000000</td>\n",
       "      <td>1.000000</td>\n",
       "      <td>0.300000</td>\n",
       "      <td>208.000000</td>\n",
       "      <td>35.000000</td>\n",
       "      <td>42.000000</td>\n",
       "      <td>6.600000</td>\n",
       "      <td>3.100000</td>\n",
       "      <td>0.930000</td>\n",
       "    </tr>\n",
       "    <tr>\n",
       "      <th>75%</th>\n",
       "      <td>58.000000</td>\n",
       "      <td>2.600000</td>\n",
       "      <td>1.300000</td>\n",
       "      <td>298.000000</td>\n",
       "      <td>60.500000</td>\n",
       "      <td>87.000000</td>\n",
       "      <td>7.200000</td>\n",
       "      <td>3.800000</td>\n",
       "      <td>1.100000</td>\n",
       "    </tr>\n",
       "    <tr>\n",
       "      <th>max</th>\n",
       "      <td>90.000000</td>\n",
       "      <td>75.000000</td>\n",
       "      <td>19.700000</td>\n",
       "      <td>2110.000000</td>\n",
       "      <td>2000.000000</td>\n",
       "      <td>4929.000000</td>\n",
       "      <td>9.600000</td>\n",
       "      <td>5.500000</td>\n",
       "      <td>2.800000</td>\n",
       "    </tr>\n",
       "  </tbody>\n",
       "</table>\n",
       "</div>"
      ],
      "text/plain": [
       "              Age  Total_Bilirubin  Direct_Bilirubin  Alkaline_Phosphotase  \\\n",
       "count  583.000000       583.000000        583.000000            583.000000   \n",
       "mean    44.746141         3.298799          1.486106            290.576329   \n",
       "std     16.189833         6.209522          2.808498            242.937989   \n",
       "min      4.000000         0.400000          0.100000             63.000000   \n",
       "25%     33.000000         0.800000          0.200000            175.500000   \n",
       "50%     45.000000         1.000000          0.300000            208.000000   \n",
       "75%     58.000000         2.600000          1.300000            298.000000   \n",
       "max     90.000000        75.000000         19.700000           2110.000000   \n",
       "\n",
       "       Alamine_Aminotransferase  Aspartate_Aminotransferase  Total_Protiens  \\\n",
       "count                583.000000                  583.000000      568.000000   \n",
       "mean                  80.713551                  109.910806        6.483979   \n",
       "std                  182.620356                  288.918529        1.084039   \n",
       "min                   10.000000                   10.000000        2.700000   \n",
       "25%                   23.000000                   25.000000        5.800000   \n",
       "50%                   35.000000                   42.000000        6.600000   \n",
       "75%                   60.500000                   87.000000        7.200000   \n",
       "max                 2000.000000                 4929.000000        9.600000   \n",
       "\n",
       "          Albumin  Albumin_and_Globulin_Ratio  \n",
       "count  583.000000                  579.000000  \n",
       "mean     3.141852                    0.947064  \n",
       "std      0.795519                    0.319592  \n",
       "min      0.900000                    0.300000  \n",
       "25%      2.600000                    0.700000  \n",
       "50%      3.100000                    0.930000  \n",
       "75%      3.800000                    1.100000  \n",
       "max      5.500000                    2.800000  "
      ]
     },
     "execution_count": 5,
     "metadata": {},
     "output_type": "execute_result"
    }
   ],
   "source": [
    "ind_pat.describe()"
   ]
  },
  {
   "cell_type": "markdown",
   "metadata": {},
   "source": [
    "Missing Values in data?"
   ]
  },
  {
   "cell_type": "code",
   "execution_count": 161,
   "metadata": {},
   "outputs": [
    {
     "data": {
      "text/plain": [
       "Age                            0\n",
       "Gender                        20\n",
       "Total_Bilirubin                0\n",
       "Direct_Bilirubin               0\n",
       "Alkaline_Phosphotase           0\n",
       "Alamine_Aminotransferase       0\n",
       "Aspartate_Aminotransferase     0\n",
       "Total_Protiens                15\n",
       "Albumin                        0\n",
       "Albumin_and_Globulin_Ratio     4\n",
       "Class                          0\n",
       "dtype: int64"
      ]
     },
     "execution_count": 161,
     "metadata": {},
     "output_type": "execute_result"
    }
   ],
   "source": [
    "ind_pat.isnull().sum()"
   ]
  },
  {
   "cell_type": "code",
   "execution_count": 6,
   "metadata": {},
   "outputs": [
    {
     "data": {
      "text/plain": [
       "(583, 11)"
      ]
     },
     "execution_count": 6,
     "metadata": {},
     "output_type": "execute_result"
    }
   ],
   "source": [
    "ind_pat.shape"
   ]
  },
  {
   "cell_type": "markdown",
   "metadata": {},
   "source": [
    "Removing duplicate data"
   ]
  },
  {
   "cell_type": "code",
   "execution_count": 7,
   "metadata": {},
   "outputs": [],
   "source": [
    "ind_pat_dup = ind_pat[ind_pat.duplicated(keep = False)]"
   ]
  },
  {
   "cell_type": "code",
   "execution_count": 8,
   "metadata": {},
   "outputs": [
    {
     "data": {
      "text/html": [
       "<div>\n",
       "<style scoped>\n",
       "    .dataframe tbody tr th:only-of-type {\n",
       "        vertical-align: middle;\n",
       "    }\n",
       "\n",
       "    .dataframe tbody tr th {\n",
       "        vertical-align: top;\n",
       "    }\n",
       "\n",
       "    .dataframe thead th {\n",
       "        text-align: right;\n",
       "    }\n",
       "</style>\n",
       "<table border=\"1\" class=\"dataframe\">\n",
       "  <thead>\n",
       "    <tr style=\"text-align: right;\">\n",
       "      <th></th>\n",
       "      <th>Age</th>\n",
       "      <th>Gender</th>\n",
       "      <th>Total_Bilirubin</th>\n",
       "      <th>Direct_Bilirubin</th>\n",
       "      <th>Alkaline_Phosphotase</th>\n",
       "      <th>Alamine_Aminotransferase</th>\n",
       "      <th>Aspartate_Aminotransferase</th>\n",
       "      <th>Total_Protiens</th>\n",
       "      <th>Albumin</th>\n",
       "      <th>Albumin_and_Globulin_Ratio</th>\n",
       "      <th>Class</th>\n",
       "    </tr>\n",
       "  </thead>\n",
       "  <tbody>\n",
       "    <tr>\n",
       "      <th>19</th>\n",
       "      <td>40</td>\n",
       "      <td>Female</td>\n",
       "      <td>0.9</td>\n",
       "      <td>0.3</td>\n",
       "      <td>293</td>\n",
       "      <td>232</td>\n",
       "      <td>245</td>\n",
       "      <td>6.8</td>\n",
       "      <td>3.1</td>\n",
       "      <td>0.80</td>\n",
       "      <td>No</td>\n",
       "    </tr>\n",
       "    <tr>\n",
       "      <th>20</th>\n",
       "      <td>40</td>\n",
       "      <td>Female</td>\n",
       "      <td>0.9</td>\n",
       "      <td>0.3</td>\n",
       "      <td>293</td>\n",
       "      <td>232</td>\n",
       "      <td>245</td>\n",
       "      <td>6.8</td>\n",
       "      <td>3.1</td>\n",
       "      <td>0.80</td>\n",
       "      <td>No</td>\n",
       "    </tr>\n",
       "    <tr>\n",
       "      <th>26</th>\n",
       "      <td>34</td>\n",
       "      <td>Male</td>\n",
       "      <td>4.1</td>\n",
       "      <td>2.0</td>\n",
       "      <td>289</td>\n",
       "      <td>875</td>\n",
       "      <td>731</td>\n",
       "      <td>5.0</td>\n",
       "      <td>2.7</td>\n",
       "      <td>1.10</td>\n",
       "      <td>No</td>\n",
       "    </tr>\n",
       "    <tr>\n",
       "      <th>27</th>\n",
       "      <td>34</td>\n",
       "      <td>Male</td>\n",
       "      <td>4.1</td>\n",
       "      <td>2.0</td>\n",
       "      <td>289</td>\n",
       "      <td>875</td>\n",
       "      <td>731</td>\n",
       "      <td>5.0</td>\n",
       "      <td>2.7</td>\n",
       "      <td>1.10</td>\n",
       "      <td>No</td>\n",
       "    </tr>\n",
       "    <tr>\n",
       "      <th>34</th>\n",
       "      <td>38</td>\n",
       "      <td>Female</td>\n",
       "      <td>2.6</td>\n",
       "      <td>1.2</td>\n",
       "      <td>410</td>\n",
       "      <td>59</td>\n",
       "      <td>57</td>\n",
       "      <td>5.6</td>\n",
       "      <td>3.0</td>\n",
       "      <td>0.80</td>\n",
       "      <td>Yes</td>\n",
       "    </tr>\n",
       "    <tr>\n",
       "      <th>35</th>\n",
       "      <td>38</td>\n",
       "      <td>Female</td>\n",
       "      <td>2.6</td>\n",
       "      <td>1.2</td>\n",
       "      <td>410</td>\n",
       "      <td>59</td>\n",
       "      <td>57</td>\n",
       "      <td>5.6</td>\n",
       "      <td>3.0</td>\n",
       "      <td>0.80</td>\n",
       "      <td>Yes</td>\n",
       "    </tr>\n",
       "    <tr>\n",
       "      <th>55</th>\n",
       "      <td>42</td>\n",
       "      <td>Male</td>\n",
       "      <td>8.9</td>\n",
       "      <td>4.5</td>\n",
       "      <td>272</td>\n",
       "      <td>31</td>\n",
       "      <td>61</td>\n",
       "      <td>5.8</td>\n",
       "      <td>2.0</td>\n",
       "      <td>0.50</td>\n",
       "      <td>No</td>\n",
       "    </tr>\n",
       "    <tr>\n",
       "      <th>56</th>\n",
       "      <td>42</td>\n",
       "      <td>Male</td>\n",
       "      <td>8.9</td>\n",
       "      <td>4.5</td>\n",
       "      <td>272</td>\n",
       "      <td>31</td>\n",
       "      <td>61</td>\n",
       "      <td>5.8</td>\n",
       "      <td>2.0</td>\n",
       "      <td>0.50</td>\n",
       "      <td>No</td>\n",
       "    </tr>\n",
       "    <tr>\n",
       "      <th>62</th>\n",
       "      <td>58</td>\n",
       "      <td>Male</td>\n",
       "      <td>1.0</td>\n",
       "      <td>0.5</td>\n",
       "      <td>158</td>\n",
       "      <td>37</td>\n",
       "      <td>43</td>\n",
       "      <td>7.2</td>\n",
       "      <td>3.6</td>\n",
       "      <td>1.00</td>\n",
       "      <td>No</td>\n",
       "    </tr>\n",
       "    <tr>\n",
       "      <th>63</th>\n",
       "      <td>58</td>\n",
       "      <td>Male</td>\n",
       "      <td>1.0</td>\n",
       "      <td>0.5</td>\n",
       "      <td>158</td>\n",
       "      <td>37</td>\n",
       "      <td>43</td>\n",
       "      <td>7.2</td>\n",
       "      <td>3.6</td>\n",
       "      <td>1.00</td>\n",
       "      <td>No</td>\n",
       "    </tr>\n",
       "    <tr>\n",
       "      <th>106</th>\n",
       "      <td>36</td>\n",
       "      <td>Male</td>\n",
       "      <td>5.3</td>\n",
       "      <td>2.3</td>\n",
       "      <td>145</td>\n",
       "      <td>32</td>\n",
       "      <td>92</td>\n",
       "      <td>5.1</td>\n",
       "      <td>2.6</td>\n",
       "      <td>1.00</td>\n",
       "      <td>Yes</td>\n",
       "    </tr>\n",
       "    <tr>\n",
       "      <th>107</th>\n",
       "      <td>36</td>\n",
       "      <td>Male</td>\n",
       "      <td>5.3</td>\n",
       "      <td>2.3</td>\n",
       "      <td>145</td>\n",
       "      <td>32</td>\n",
       "      <td>92</td>\n",
       "      <td>5.1</td>\n",
       "      <td>2.6</td>\n",
       "      <td>1.00</td>\n",
       "      <td>Yes</td>\n",
       "    </tr>\n",
       "    <tr>\n",
       "      <th>108</th>\n",
       "      <td>36</td>\n",
       "      <td>Male</td>\n",
       "      <td>0.8</td>\n",
       "      <td>0.2</td>\n",
       "      <td>158</td>\n",
       "      <td>29</td>\n",
       "      <td>39</td>\n",
       "      <td>6.0</td>\n",
       "      <td>2.2</td>\n",
       "      <td>0.50</td>\n",
       "      <td>Yes</td>\n",
       "    </tr>\n",
       "    <tr>\n",
       "      <th>109</th>\n",
       "      <td>36</td>\n",
       "      <td>Male</td>\n",
       "      <td>0.8</td>\n",
       "      <td>0.2</td>\n",
       "      <td>158</td>\n",
       "      <td>29</td>\n",
       "      <td>39</td>\n",
       "      <td>6.0</td>\n",
       "      <td>2.2</td>\n",
       "      <td>0.50</td>\n",
       "      <td>Yes</td>\n",
       "    </tr>\n",
       "    <tr>\n",
       "      <th>138</th>\n",
       "      <td>18</td>\n",
       "      <td>Male</td>\n",
       "      <td>0.8</td>\n",
       "      <td>0.2</td>\n",
       "      <td>282</td>\n",
       "      <td>72</td>\n",
       "      <td>140</td>\n",
       "      <td>5.5</td>\n",
       "      <td>2.5</td>\n",
       "      <td>0.80</td>\n",
       "      <td>No</td>\n",
       "    </tr>\n",
       "    <tr>\n",
       "      <th>139</th>\n",
       "      <td>18</td>\n",
       "      <td>Male</td>\n",
       "      <td>0.8</td>\n",
       "      <td>0.2</td>\n",
       "      <td>282</td>\n",
       "      <td>72</td>\n",
       "      <td>140</td>\n",
       "      <td>5.5</td>\n",
       "      <td>2.5</td>\n",
       "      <td>0.80</td>\n",
       "      <td>No</td>\n",
       "    </tr>\n",
       "    <tr>\n",
       "      <th>143</th>\n",
       "      <td>30</td>\n",
       "      <td>Male</td>\n",
       "      <td>1.6</td>\n",
       "      <td>0.4</td>\n",
       "      <td>332</td>\n",
       "      <td>84</td>\n",
       "      <td>139</td>\n",
       "      <td>5.6</td>\n",
       "      <td>2.7</td>\n",
       "      <td>0.90</td>\n",
       "      <td>No</td>\n",
       "    </tr>\n",
       "    <tr>\n",
       "      <th>144</th>\n",
       "      <td>30</td>\n",
       "      <td>Male</td>\n",
       "      <td>1.6</td>\n",
       "      <td>0.4</td>\n",
       "      <td>332</td>\n",
       "      <td>84</td>\n",
       "      <td>139</td>\n",
       "      <td>5.6</td>\n",
       "      <td>2.7</td>\n",
       "      <td>0.90</td>\n",
       "      <td>No</td>\n",
       "    </tr>\n",
       "    <tr>\n",
       "      <th>158</th>\n",
       "      <td>72</td>\n",
       "      <td>Male</td>\n",
       "      <td>0.7</td>\n",
       "      <td>0.1</td>\n",
       "      <td>196</td>\n",
       "      <td>20</td>\n",
       "      <td>35</td>\n",
       "      <td>5.8</td>\n",
       "      <td>2.0</td>\n",
       "      <td>0.50</td>\n",
       "      <td>No</td>\n",
       "    </tr>\n",
       "    <tr>\n",
       "      <th>159</th>\n",
       "      <td>72</td>\n",
       "      <td>Male</td>\n",
       "      <td>0.7</td>\n",
       "      <td>0.1</td>\n",
       "      <td>196</td>\n",
       "      <td>20</td>\n",
       "      <td>35</td>\n",
       "      <td>5.8</td>\n",
       "      <td>2.0</td>\n",
       "      <td>0.50</td>\n",
       "      <td>No</td>\n",
       "    </tr>\n",
       "    <tr>\n",
       "      <th>164</th>\n",
       "      <td>39</td>\n",
       "      <td>Male</td>\n",
       "      <td>1.9</td>\n",
       "      <td>0.9</td>\n",
       "      <td>180</td>\n",
       "      <td>42</td>\n",
       "      <td>62</td>\n",
       "      <td>7.4</td>\n",
       "      <td>4.3</td>\n",
       "      <td>1.38</td>\n",
       "      <td>No</td>\n",
       "    </tr>\n",
       "    <tr>\n",
       "      <th>165</th>\n",
       "      <td>39</td>\n",
       "      <td>Male</td>\n",
       "      <td>1.9</td>\n",
       "      <td>0.9</td>\n",
       "      <td>180</td>\n",
       "      <td>42</td>\n",
       "      <td>62</td>\n",
       "      <td>7.4</td>\n",
       "      <td>4.3</td>\n",
       "      <td>1.38</td>\n",
       "      <td>No</td>\n",
       "    </tr>\n",
       "    <tr>\n",
       "      <th>174</th>\n",
       "      <td>31</td>\n",
       "      <td>Male</td>\n",
       "      <td>0.6</td>\n",
       "      <td>0.1</td>\n",
       "      <td>175</td>\n",
       "      <td>48</td>\n",
       "      <td>34</td>\n",
       "      <td>6.0</td>\n",
       "      <td>3.7</td>\n",
       "      <td>1.60</td>\n",
       "      <td>No</td>\n",
       "    </tr>\n",
       "    <tr>\n",
       "      <th>175</th>\n",
       "      <td>31</td>\n",
       "      <td>Male</td>\n",
       "      <td>0.6</td>\n",
       "      <td>0.1</td>\n",
       "      <td>175</td>\n",
       "      <td>48</td>\n",
       "      <td>34</td>\n",
       "      <td>6.0</td>\n",
       "      <td>3.7</td>\n",
       "      <td>1.60</td>\n",
       "      <td>No</td>\n",
       "    </tr>\n",
       "    <tr>\n",
       "      <th>201</th>\n",
       "      <td>49</td>\n",
       "      <td>Male</td>\n",
       "      <td>0.6</td>\n",
       "      <td>0.1</td>\n",
       "      <td>218</td>\n",
       "      <td>50</td>\n",
       "      <td>53</td>\n",
       "      <td>5.0</td>\n",
       "      <td>2.4</td>\n",
       "      <td>0.90</td>\n",
       "      <td>No</td>\n",
       "    </tr>\n",
       "    <tr>\n",
       "      <th>202</th>\n",
       "      <td>49</td>\n",
       "      <td>Male</td>\n",
       "      <td>0.6</td>\n",
       "      <td>0.1</td>\n",
       "      <td>218</td>\n",
       "      <td>50</td>\n",
       "      <td>53</td>\n",
       "      <td>5.0</td>\n",
       "      <td>2.4</td>\n",
       "      <td>0.90</td>\n",
       "      <td>No</td>\n",
       "    </tr>\n",
       "  </tbody>\n",
       "</table>\n",
       "</div>"
      ],
      "text/plain": [
       "     Age  Gender  Total_Bilirubin  Direct_Bilirubin  Alkaline_Phosphotase  \\\n",
       "19    40  Female              0.9               0.3                   293   \n",
       "20    40  Female              0.9               0.3                   293   \n",
       "26    34    Male              4.1               2.0                   289   \n",
       "27    34    Male              4.1               2.0                   289   \n",
       "34    38  Female              2.6               1.2                   410   \n",
       "35    38  Female              2.6               1.2                   410   \n",
       "55    42    Male              8.9               4.5                   272   \n",
       "56    42    Male              8.9               4.5                   272   \n",
       "62    58    Male              1.0               0.5                   158   \n",
       "63    58    Male              1.0               0.5                   158   \n",
       "106   36    Male              5.3               2.3                   145   \n",
       "107   36    Male              5.3               2.3                   145   \n",
       "108   36    Male              0.8               0.2                   158   \n",
       "109   36    Male              0.8               0.2                   158   \n",
       "138   18    Male              0.8               0.2                   282   \n",
       "139   18    Male              0.8               0.2                   282   \n",
       "143   30    Male              1.6               0.4                   332   \n",
       "144   30    Male              1.6               0.4                   332   \n",
       "158   72    Male              0.7               0.1                   196   \n",
       "159   72    Male              0.7               0.1                   196   \n",
       "164   39    Male              1.9               0.9                   180   \n",
       "165   39    Male              1.9               0.9                   180   \n",
       "174   31    Male              0.6               0.1                   175   \n",
       "175   31    Male              0.6               0.1                   175   \n",
       "201   49    Male              0.6               0.1                   218   \n",
       "202   49    Male              0.6               0.1                   218   \n",
       "\n",
       "     Alamine_Aminotransferase  Aspartate_Aminotransferase  Total_Protiens  \\\n",
       "19                        232                         245             6.8   \n",
       "20                        232                         245             6.8   \n",
       "26                        875                         731             5.0   \n",
       "27                        875                         731             5.0   \n",
       "34                         59                          57             5.6   \n",
       "35                         59                          57             5.6   \n",
       "55                         31                          61             5.8   \n",
       "56                         31                          61             5.8   \n",
       "62                         37                          43             7.2   \n",
       "63                         37                          43             7.2   \n",
       "106                        32                          92             5.1   \n",
       "107                        32                          92             5.1   \n",
       "108                        29                          39             6.0   \n",
       "109                        29                          39             6.0   \n",
       "138                        72                         140             5.5   \n",
       "139                        72                         140             5.5   \n",
       "143                        84                         139             5.6   \n",
       "144                        84                         139             5.6   \n",
       "158                        20                          35             5.8   \n",
       "159                        20                          35             5.8   \n",
       "164                        42                          62             7.4   \n",
       "165                        42                          62             7.4   \n",
       "174                        48                          34             6.0   \n",
       "175                        48                          34             6.0   \n",
       "201                        50                          53             5.0   \n",
       "202                        50                          53             5.0   \n",
       "\n",
       "     Albumin  Albumin_and_Globulin_Ratio Class  \n",
       "19       3.1                        0.80    No  \n",
       "20       3.1                        0.80    No  \n",
       "26       2.7                        1.10    No  \n",
       "27       2.7                        1.10    No  \n",
       "34       3.0                        0.80   Yes  \n",
       "35       3.0                        0.80   Yes  \n",
       "55       2.0                        0.50    No  \n",
       "56       2.0                        0.50    No  \n",
       "62       3.6                        1.00    No  \n",
       "63       3.6                        1.00    No  \n",
       "106      2.6                        1.00   Yes  \n",
       "107      2.6                        1.00   Yes  \n",
       "108      2.2                        0.50   Yes  \n",
       "109      2.2                        0.50   Yes  \n",
       "138      2.5                        0.80    No  \n",
       "139      2.5                        0.80    No  \n",
       "143      2.7                        0.90    No  \n",
       "144      2.7                        0.90    No  \n",
       "158      2.0                        0.50    No  \n",
       "159      2.0                        0.50    No  \n",
       "164      4.3                        1.38    No  \n",
       "165      4.3                        1.38    No  \n",
       "174      3.7                        1.60    No  \n",
       "175      3.7                        1.60    No  \n",
       "201      2.4                        0.90    No  \n",
       "202      2.4                        0.90    No  "
      ]
     },
     "execution_count": 8,
     "metadata": {},
     "output_type": "execute_result"
    }
   ],
   "source": [
    "ind_pat_dup"
   ]
  },
  {
   "cell_type": "code",
   "execution_count": 9,
   "metadata": {},
   "outputs": [],
   "source": [
    "ind_pat = ind_pat[~ind_pat.duplicated(subset = None, keep = 'first')]"
   ]
  },
  {
   "cell_type": "markdown",
   "metadata": {},
   "source": [
    "Duplicate data is removed"
   ]
  },
  {
   "cell_type": "code",
   "execution_count": 10,
   "metadata": {},
   "outputs": [
    {
     "data": {
      "text/plain": [
       "(570, 11)"
      ]
     },
     "execution_count": 10,
     "metadata": {},
     "output_type": "execute_result"
    }
   ],
   "source": [
    "ind_pat.shape"
   ]
  },
  {
   "cell_type": "markdown",
   "metadata": {},
   "source": [
    "# performing imputations in missing values"
   ]
  },
  {
   "cell_type": "code",
   "execution_count": 12,
   "metadata": {},
   "outputs": [
    {
     "data": {
      "text/plain": [
       "Male      410\n",
       "Female    140\n",
       "Name: Gender, dtype: int64"
      ]
     },
     "execution_count": 12,
     "metadata": {},
     "output_type": "execute_result"
    }
   ],
   "source": [
    "ind_pat['Gender'].value_counts()"
   ]
  },
  {
   "cell_type": "code",
   "execution_count": 13,
   "metadata": {},
   "outputs": [],
   "source": [
    "ind_pat['Gender']=ind_pat['Gender'].fillna(value='Male')"
   ]
  },
  {
   "cell_type": "code",
   "execution_count": 171,
   "metadata": {},
   "outputs": [
    {
     "data": {
      "text/plain": [
       "7.0    32\n",
       "6.0    28\n",
       "6.8    26\n",
       "6.2    24\n",
       "6.9    24\n",
       "7.1    21\n",
       "7.2    20\n",
       "8.0    18\n",
       "6.1    18\n",
       "7.3    18\n",
       "6.4    17\n",
       "6.6    16\n",
       "5.6    16\n",
       "5.5    16\n",
       "6.7    15\n",
       "7.9    14\n",
       "6.3    14\n",
       "7.5    14\n",
       "5.9    14\n",
       "5.4    13\n",
       "6.5    13\n",
       "5.2    12\n",
       "5.7    11\n",
       "5.8    11\n",
       "7.4    11\n",
       "7.8     9\n",
       "7.6     9\n",
       "5.1     9\n",
       "5.0     8\n",
       "5.3     8\n",
       "8.2     8\n",
       "4.9     6\n",
       "8.1     6\n",
       "8.5     5\n",
       "4.5     4\n",
       "4.6     4\n",
       "4.4     4\n",
       "3.6     3\n",
       "8.6     3\n",
       "4.8     3\n",
       "8.4     3\n",
       "8.3     3\n",
       "4.3     3\n",
       "7.7     2\n",
       "3.8     2\n",
       "4.1     2\n",
       "9.2     2\n",
       "3.9     2\n",
       "4.7     2\n",
       "8.7     1\n",
       "3.7     1\n",
       "9.5     1\n",
       "9.6     1\n",
       "4.0     1\n",
       "3.0     1\n",
       "2.8     1\n",
       "8.9     1\n",
       "2.7     1\n",
       "Name: Total_Protiens, dtype: int64"
      ]
     },
     "execution_count": 171,
     "metadata": {},
     "output_type": "execute_result"
    }
   ],
   "source": [
    "ind_pat['Total_Protiens'].value_counts()"
   ]
  },
  {
   "cell_type": "code",
   "execution_count": 14,
   "metadata": {},
   "outputs": [
    {
     "data": {
      "text/plain": [
       "6.6"
      ]
     },
     "execution_count": 14,
     "metadata": {},
     "output_type": "execute_result"
    }
   ],
   "source": [
    "ind_pat['Total_Protiens'].median()"
   ]
  },
  {
   "cell_type": "code",
   "execution_count": 15,
   "metadata": {},
   "outputs": [],
   "source": [
    "ind_pat['Total_Protiens'].fillna(ind_pat['Total_Protiens'].median(),inplace=True)"
   ]
  },
  {
   "cell_type": "code",
   "execution_count": 16,
   "metadata": {},
   "outputs": [
    {
     "data": {
      "text/plain": [
       "1.00    104\n",
       "0.80     62\n",
       "0.90     57\n",
       "0.70     53\n",
       "1.10     45\n",
       "1.20     35\n",
       "0.60     31\n",
       "0.50     26\n",
       "1.30     25\n",
       "1.40     17\n",
       "0.40     14\n",
       "1.50     10\n",
       "1.60      4\n",
       "1.70      4\n",
       "0.30      4\n",
       "0.75      4\n",
       "0.96      3\n",
       "1.80      3\n",
       "0.92      2\n",
       "1.16      2\n",
       "0.52      2\n",
       "0.47      2\n",
       "0.76      2\n",
       "0.93      2\n",
       "1.38      2\n",
       "2.50      2\n",
       "1.85      2\n",
       "1.34      2\n",
       "0.95      2\n",
       "1.06      2\n",
       "       ... \n",
       "0.48      1\n",
       "0.62      1\n",
       "1.12      1\n",
       "1.03      1\n",
       "0.53      1\n",
       "0.55      1\n",
       "0.46      1\n",
       "0.69      1\n",
       "1.25      1\n",
       "1.66      1\n",
       "1.55      1\n",
       "0.61      1\n",
       "0.39      1\n",
       "0.64      1\n",
       "0.78      1\n",
       "0.37      1\n",
       "1.27      1\n",
       "0.68      1\n",
       "0.67      1\n",
       "0.58      1\n",
       "1.11      1\n",
       "0.71      1\n",
       "1.72      1\n",
       "0.35      1\n",
       "0.45      1\n",
       "0.88      1\n",
       "1.02      1\n",
       "1.09      1\n",
       "0.89      1\n",
       "1.36      1\n",
       "Name: Albumin_and_Globulin_Ratio, Length: 69, dtype: int64"
      ]
     },
     "execution_count": 16,
     "metadata": {},
     "output_type": "execute_result"
    }
   ],
   "source": [
    "ind_pat['Albumin_and_Globulin_Ratio'].value_counts()"
   ]
  },
  {
   "cell_type": "code",
   "execution_count": 17,
   "metadata": {},
   "outputs": [
    {
     "data": {
      "text/plain": [
       "0.95"
      ]
     },
     "execution_count": 17,
     "metadata": {},
     "output_type": "execute_result"
    }
   ],
   "source": [
    "ind_pat['Albumin_and_Globulin_Ratio'].median()"
   ]
  },
  {
   "cell_type": "code",
   "execution_count": 18,
   "metadata": {},
   "outputs": [
    {
     "data": {
      "text/plain": [
       "0.9480035335689051"
      ]
     },
     "execution_count": 18,
     "metadata": {},
     "output_type": "execute_result"
    }
   ],
   "source": [
    "ind_pat['Albumin_and_Globulin_Ratio'].mean()"
   ]
  },
  {
   "cell_type": "code",
   "execution_count": 19,
   "metadata": {},
   "outputs": [],
   "source": [
    "ind_pat['Albumin_and_Globulin_Ratio'].fillna(ind_pat['Albumin_and_Globulin_Ratio'].median(),inplace=True)"
   ]
  },
  {
   "cell_type": "markdown",
   "metadata": {},
   "source": [
    "Now the data is clean and Complete"
   ]
  },
  {
   "cell_type": "code",
   "execution_count": 20,
   "metadata": {},
   "outputs": [
    {
     "data": {
      "text/plain": [
       "Age                           0\n",
       "Gender                        0\n",
       "Total_Bilirubin               0\n",
       "Direct_Bilirubin              0\n",
       "Alkaline_Phosphotase          0\n",
       "Alamine_Aminotransferase      0\n",
       "Aspartate_Aminotransferase    0\n",
       "Total_Protiens                0\n",
       "Albumin                       0\n",
       "Albumin_and_Globulin_Ratio    0\n",
       "Class                         0\n",
       "dtype: int64"
      ]
     },
     "execution_count": 20,
     "metadata": {},
     "output_type": "execute_result"
    }
   ],
   "source": [
    "ind_pat.isnull().sum()"
   ]
  },
  {
   "cell_type": "code",
   "execution_count": 21,
   "metadata": {},
   "outputs": [
    {
     "data": {
      "text/plain": [
       "(570, 11)"
      ]
     },
     "execution_count": 21,
     "metadata": {},
     "output_type": "execute_result"
    }
   ],
   "source": [
    "ind_pat.shape"
   ]
  },
  {
   "cell_type": "code",
   "execution_count": 24,
   "metadata": {},
   "outputs": [],
   "source": [
    "ind_pat['Class'].replace({'No': 0},inplace=True)\n",
    "ind_pat['Class'].replace({'Yes': 1},inplace=True)"
   ]
  },
  {
   "cell_type": "markdown",
   "metadata": {},
   "source": [
    "# Hypothesis testing to check relationship with the label "
   ]
  },
  {
   "cell_type": "code",
   "execution_count": 25,
   "metadata": {},
   "outputs": [
    {
     "name": "stdout",
     "output_type": "stream",
     "text": [
      "Null Hypothesis(H0): Gender and Class are independent of each other.\n",
      "Confidence Level : 92.27222170498041 %\n"
     ]
    }
   ],
   "source": [
    "c_table = pd.crosstab(ind_pat['Gender'],ind_pat['Class'])\n",
    "\n",
    "from scipy.stats import chi2_contingency\n",
    "stat, p, dof, expected = chi2_contingency(c_table)\n",
    "if p <= 0.05:\n",
    "    print(\"Alternate Hypothesis (H1): Gender and Class have some form of relationship.\")\n",
    "else:\n",
    "    print(\"Null Hypothesis(H0): Gender and Class are independent of each other.\")\n",
    "print(\"Confidence Level : {} %\".format(((1- p)*100)))\n",
    "\n"
   ]
  },
  {
   "cell_type": "code",
   "execution_count": 26,
   "metadata": {},
   "outputs": [
    {
     "name": "stdout",
     "output_type": "stream",
     "text": [
      "-0.13809318041844038\n",
      "0.0009479292716647942\n",
      "Confidence Level : 99.90520707283352 %\n",
      "Alternate Hypothesis (H1) - Age and class has linear relationship\n"
     ]
    }
   ],
   "source": [
    "\n",
    "from scipy.stats import pearsonr\n",
    "correlation,pvalue = pearsonr(ind_pat['Age'],ind_pat['Class'])\n",
    "print(correlation)\n",
    "print(pvalue)\n",
    "print(\"Confidence Level : {} %\".format(((1- pvalue)*100)))\n",
    "if pvalue <= 0.05:\n",
    "    print(\"Alternate Hypothesis (H1) - Age and class has linear relationship\")\n",
    "else:\n",
    "    print(\"Null Hypothesis (H0)- Age and class has no linear relationship\")"
   ]
  },
  {
   "cell_type": "code",
   "execution_count": 27,
   "metadata": {},
   "outputs": [
    {
     "name": "stdout",
     "output_type": "stream",
     "text": [
      "-0.2244297174135663\n",
      "6.106350132485954e-08\n",
      "Confidence Level : 99.99999389364986 %\n",
      "Alternate Hypothesis (H1) - Total_Bilirubin and class has linear relationship\n"
     ]
    }
   ],
   "source": [
    "from scipy.stats import pearsonr\n",
    "correlation,pvalue = pearsonr(ind_pat['Total_Bilirubin'],ind_pat['Class'])\n",
    "print(correlation)\n",
    "print(pvalue)\n",
    "print(\"Confidence Level : {} %\".format(((1- pvalue)*100)))\n",
    "if pvalue <= 0.05:\n",
    "    print(\"Alternate Hypothesis (H1) - Total_Bilirubin and class has linear relationship\")\n",
    "else:\n",
    "    print(\"Null Hypothesis (H0)- Total_Bilirubin and class has no linear relationship\")"
   ]
  },
  {
   "cell_type": "code",
   "execution_count": 28,
   "metadata": {},
   "outputs": [
    {
     "name": "stdout",
     "output_type": "stream",
     "text": [
      "-0.25066633406488736\n",
      "1.2903824781009159e-09\n",
      "Confidence Level : 99.99999987096176 %\n",
      "Alternate Hypothesis (H1) - Direct_Bilirubin and class has linear relationship\n"
     ]
    }
   ],
   "source": [
    "from scipy.stats import pearsonr\n",
    "correlation,pvalue = pearsonr(ind_pat['Direct_Bilirubin'],ind_pat['Class'])\n",
    "print(correlation)\n",
    "print(pvalue)\n",
    "print(\"Confidence Level : {} %\".format(((1- pvalue)*100)))\n",
    "if pvalue <= 0.05:\n",
    "    print(\"Alternate Hypothesis (H1) - Direct_Bilirubin and class has linear relationship\")\n",
    "else:\n",
    "    print(\"Null Hypothesis (H0)- Direct_Bilirubin and class has no linear relationship\")"
   ]
  },
  {
   "cell_type": "code",
   "execution_count": 29,
   "metadata": {},
   "outputs": [
    {
     "data": {
      "text/plain": [
       "Index(['Age', 'Gender', 'Total_Bilirubin', 'Direct_Bilirubin',\n",
       "       'Alkaline_Phosphotase', 'Alamine_Aminotransferase',\n",
       "       'Aspartate_Aminotransferase', 'Total_Protiens', 'Albumin',\n",
       "       'Albumin_and_Globulin_Ratio', 'Class'],\n",
       "      dtype='object')"
      ]
     },
     "execution_count": 29,
     "metadata": {},
     "output_type": "execute_result"
    }
   ],
   "source": [
    "ind_pat.columns"
   ]
  },
  {
   "cell_type": "code",
   "execution_count": 30,
   "metadata": {},
   "outputs": [
    {
     "name": "stdout",
     "output_type": "stream",
     "text": [
      "-0.18755981377621078\n",
      "6.538991047830893e-06\n",
      "Confidence Level : 99.99934610089521 %\n",
      "Alternate Hypothesis (H1) - Alkaline_Phosphotase and class has linear relationship\n"
     ]
    }
   ],
   "source": [
    "from scipy.stats import pearsonr\n",
    "correlation,pvalue = pearsonr(ind_pat['Alkaline_Phosphotase'],ind_pat['Class'])\n",
    "print(correlation)\n",
    "print(pvalue)\n",
    "print(\"Confidence Level : {} %\".format(((1- pvalue)*100)))\n",
    "if pvalue <= 0.05:\n",
    "    print(\"Alternate Hypothesis (H1) - Alkaline_Phosphotase and class has linear relationship\")\n",
    "else:\n",
    "    print(\"Null Hypothesis (H0)- Alkaline_Phosphotase and class has no linear relationship\")"
   ]
  },
  {
   "cell_type": "code",
   "execution_count": 31,
   "metadata": {},
   "outputs": [
    {
     "name": "stdout",
     "output_type": "stream",
     "text": [
      "-0.16191728893425517\n",
      "0.00010322353521362907\n",
      "Confidence Level : 99.98967764647864 %\n",
      "Alternate Hypothesis (H1) - Alamine_Aminotransferase and class has linear relationship\n"
     ]
    }
   ],
   "source": [
    "from scipy.stats import pearsonr\n",
    "correlation,pvalue = pearsonr(ind_pat['Alamine_Aminotransferase'],ind_pat['Class'])\n",
    "print(correlation)\n",
    "print(pvalue)\n",
    "print(\"Confidence Level : {} %\".format(((1- pvalue)*100)))\n",
    "if pvalue <= 0.05:\n",
    "    print(\"Alternate Hypothesis (H1) - Alamine_Aminotransferase and class has linear relationship\")\n",
    "else:\n",
    "    print(\"Null Hypothesis (H0)- Alamine_Aminotransferase and class has no linear relationship\")"
   ]
  },
  {
   "cell_type": "code",
   "execution_count": 32,
   "metadata": {},
   "outputs": [
    {
     "name": "stdout",
     "output_type": "stream",
     "text": [
      "-0.15110067538891003\n",
      "0.0002941855097133594\n",
      "Confidence Level : 99.97058144902866 %\n",
      "Alternate Hypothesis (H1) - Aspartate_Aminotransferase and class has linear relationship\n"
     ]
    }
   ],
   "source": [
    "from scipy.stats import pearsonr\n",
    "correlation,pvalue = pearsonr(ind_pat['Aspartate_Aminotransferase'],ind_pat['Class'])\n",
    "print(correlation)\n",
    "print(pvalue)\n",
    "print(\"Confidence Level : {} %\".format(((1- pvalue)*100)))\n",
    "if pvalue <= 0.05:\n",
    "    print(\"Alternate Hypothesis (H1) - Aspartate_Aminotransferase and class has linear relationship\")\n",
    "else:\n",
    "    print(\"Null Hypothesis (H0)- Aspartate_Aminotransferase and class has no linear relationship\")"
   ]
  },
  {
   "cell_type": "code",
   "execution_count": 33,
   "metadata": {},
   "outputs": [
    {
     "name": "stdout",
     "output_type": "stream",
     "text": [
      "0.037504043309767296\n",
      "0.3714580009292938\n",
      "Confidence Level : 62.854199907070615 %\n",
      "Null Hypothesis (H0)- Total_Protiens and class has no linear relationship\n"
     ]
    }
   ],
   "source": [
    "from scipy.stats import pearsonr\n",
    "correlation,pvalue = pearsonr(ind_pat['Total_Protiens'],ind_pat['Class'])\n",
    "print(correlation)\n",
    "print(pvalue)\n",
    "print(\"Confidence Level : {} %\".format(((1- pvalue)*100)))\n",
    "if pvalue <= 0.05:\n",
    "    print(\"Alternate Hypothesis (H1) - Total_Protiens and class has linear relationship\")\n",
    "else:\n",
    "    print(\"Null Hypothesis (H0)- Total_Protiens and class has no linear relationship\")"
   ]
  },
  {
   "cell_type": "code",
   "execution_count": 34,
   "metadata": {},
   "outputs": [
    {
     "name": "stdout",
     "output_type": "stream",
     "text": [
      "0.16683508037277303\n",
      "6.268355891508786e-05\n",
      "Confidence Level : 99.9937316441085 %\n",
      "Alternate Hypothesis (H1) - Albumin and class has linear relationship\n"
     ]
    }
   ],
   "source": [
    "from scipy.stats import pearsonr\n",
    "correlation,pvalue = pearsonr(ind_pat['Albumin'],ind_pat['Class'])\n",
    "print(correlation)\n",
    "print(pvalue)\n",
    "print(\"Confidence Level : {} %\".format(((1- pvalue)*100)))\n",
    "if pvalue <= 0.05:\n",
    "    print(\"Alternate Hypothesis (H1) - Albumin and class has linear relationship\")\n",
    "else:\n",
    "    print(\"Null Hypothesis (H0)- Albumin and class has no linear relationship\")"
   ]
  },
  {
   "cell_type": "code",
   "execution_count": 35,
   "metadata": {},
   "outputs": [
    {
     "name": "stdout",
     "output_type": "stream",
     "text": [
      "0.17055333734348094\n",
      "4.2584221495744994e-05\n",
      "Confidence Level : 99.99574157785042 %\n",
      "Alternate Hypothesis (H1) - Albumin_and_Globulin_Ratio and class has linear relationship\n"
     ]
    }
   ],
   "source": [
    "from scipy.stats import pearsonr\n",
    "correlation,pvalue = pearsonr(ind_pat['Albumin_and_Globulin_Ratio'],ind_pat['Class'])\n",
    "print(correlation)\n",
    "print(pvalue)\n",
    "print(\"Confidence Level : {} %\".format(((1- pvalue)*100)))\n",
    "if pvalue <= 0.05:\n",
    "    print(\"Alternate Hypothesis (H1) - Albumin_and_Globulin_Ratio and class has linear relationship\")\n",
    "else:\n",
    "    print(\"Null Hypothesis (H0)- Albumin_and_Globulin_Ratio and class has no linear relationship\")"
   ]
  },
  {
   "cell_type": "code",
   "execution_count": 36,
   "metadata": {},
   "outputs": [
    {
     "data": {
      "text/html": [
       "<div>\n",
       "<style scoped>\n",
       "    .dataframe tbody tr th:only-of-type {\n",
       "        vertical-align: middle;\n",
       "    }\n",
       "\n",
       "    .dataframe tbody tr th {\n",
       "        vertical-align: top;\n",
       "    }\n",
       "\n",
       "    .dataframe thead th {\n",
       "        text-align: right;\n",
       "    }\n",
       "</style>\n",
       "<table border=\"1\" class=\"dataframe\">\n",
       "  <thead>\n",
       "    <tr style=\"text-align: right;\">\n",
       "      <th></th>\n",
       "      <th>Age</th>\n",
       "      <th>Gender</th>\n",
       "      <th>Total_Bilirubin</th>\n",
       "      <th>Direct_Bilirubin</th>\n",
       "      <th>Alkaline_Phosphotase</th>\n",
       "      <th>Alamine_Aminotransferase</th>\n",
       "      <th>Aspartate_Aminotransferase</th>\n",
       "      <th>Total_Protiens</th>\n",
       "      <th>Albumin</th>\n",
       "      <th>Albumin_and_Globulin_Ratio</th>\n",
       "      <th>Class</th>\n",
       "    </tr>\n",
       "  </thead>\n",
       "  <tbody>\n",
       "    <tr>\n",
       "      <th>1</th>\n",
       "      <td>65</td>\n",
       "      <td>Female</td>\n",
       "      <td>0.7</td>\n",
       "      <td>0.1</td>\n",
       "      <td>187</td>\n",
       "      <td>16</td>\n",
       "      <td>18</td>\n",
       "      <td>6.8</td>\n",
       "      <td>3.3</td>\n",
       "      <td>0.90</td>\n",
       "      <td>0</td>\n",
       "    </tr>\n",
       "    <tr>\n",
       "      <th>2</th>\n",
       "      <td>62</td>\n",
       "      <td>Male</td>\n",
       "      <td>10.9</td>\n",
       "      <td>5.5</td>\n",
       "      <td>699</td>\n",
       "      <td>64</td>\n",
       "      <td>100</td>\n",
       "      <td>7.5</td>\n",
       "      <td>3.2</td>\n",
       "      <td>0.74</td>\n",
       "      <td>0</td>\n",
       "    </tr>\n",
       "    <tr>\n",
       "      <th>3</th>\n",
       "      <td>62</td>\n",
       "      <td>Male</td>\n",
       "      <td>7.3</td>\n",
       "      <td>4.1</td>\n",
       "      <td>490</td>\n",
       "      <td>60</td>\n",
       "      <td>68</td>\n",
       "      <td>7.0</td>\n",
       "      <td>3.3</td>\n",
       "      <td>0.89</td>\n",
       "      <td>0</td>\n",
       "    </tr>\n",
       "    <tr>\n",
       "      <th>4</th>\n",
       "      <td>58</td>\n",
       "      <td>Male</td>\n",
       "      <td>1.0</td>\n",
       "      <td>0.4</td>\n",
       "      <td>182</td>\n",
       "      <td>14</td>\n",
       "      <td>20</td>\n",
       "      <td>6.8</td>\n",
       "      <td>3.4</td>\n",
       "      <td>1.00</td>\n",
       "      <td>0</td>\n",
       "    </tr>\n",
       "    <tr>\n",
       "      <th>5</th>\n",
       "      <td>72</td>\n",
       "      <td>Male</td>\n",
       "      <td>3.9</td>\n",
       "      <td>2.0</td>\n",
       "      <td>195</td>\n",
       "      <td>27</td>\n",
       "      <td>59</td>\n",
       "      <td>7.3</td>\n",
       "      <td>2.4</td>\n",
       "      <td>0.40</td>\n",
       "      <td>0</td>\n",
       "    </tr>\n",
       "  </tbody>\n",
       "</table>\n",
       "</div>"
      ],
      "text/plain": [
       "   Age  Gender  Total_Bilirubin  Direct_Bilirubin  Alkaline_Phosphotase  \\\n",
       "1   65  Female              0.7               0.1                   187   \n",
       "2   62    Male             10.9               5.5                   699   \n",
       "3   62    Male              7.3               4.1                   490   \n",
       "4   58    Male              1.0               0.4                   182   \n",
       "5   72    Male              3.9               2.0                   195   \n",
       "\n",
       "   Alamine_Aminotransferase  Aspartate_Aminotransferase  Total_Protiens  \\\n",
       "1                        16                          18             6.8   \n",
       "2                        64                         100             7.5   \n",
       "3                        60                          68             7.0   \n",
       "4                        14                          20             6.8   \n",
       "5                        27                          59             7.3   \n",
       "\n",
       "   Albumin  Albumin_and_Globulin_Ratio  Class  \n",
       "1      3.3                        0.90      0  \n",
       "2      3.2                        0.74      0  \n",
       "3      3.3                        0.89      0  \n",
       "4      3.4                        1.00      0  \n",
       "5      2.4                        0.40      0  "
      ]
     },
     "execution_count": 36,
     "metadata": {},
     "output_type": "execute_result"
    }
   ],
   "source": [
    "ind_pat.head()"
   ]
  },
  {
   "cell_type": "markdown",
   "metadata": {},
   "source": [
    "Lets drop the features which has no relationship with the label"
   ]
  },
  {
   "cell_type": "code",
   "execution_count": 37,
   "metadata": {},
   "outputs": [],
   "source": [
    "ind_pat.drop(columns=\"Gender\",inplace=True)"
   ]
  },
  {
   "cell_type": "code",
   "execution_count": 38,
   "metadata": {},
   "outputs": [],
   "source": [
    "ind_pat.drop(columns=\"Total_Protiens\",inplace=True)"
   ]
  },
  {
   "cell_type": "code",
   "execution_count": 39,
   "metadata": {},
   "outputs": [
    {
     "data": {
      "text/html": [
       "<div>\n",
       "<style scoped>\n",
       "    .dataframe tbody tr th:only-of-type {\n",
       "        vertical-align: middle;\n",
       "    }\n",
       "\n",
       "    .dataframe tbody tr th {\n",
       "        vertical-align: top;\n",
       "    }\n",
       "\n",
       "    .dataframe thead th {\n",
       "        text-align: right;\n",
       "    }\n",
       "</style>\n",
       "<table border=\"1\" class=\"dataframe\">\n",
       "  <thead>\n",
       "    <tr style=\"text-align: right;\">\n",
       "      <th></th>\n",
       "      <th>Age</th>\n",
       "      <th>Total_Bilirubin</th>\n",
       "      <th>Direct_Bilirubin</th>\n",
       "      <th>Alkaline_Phosphotase</th>\n",
       "      <th>Alamine_Aminotransferase</th>\n",
       "      <th>Aspartate_Aminotransferase</th>\n",
       "      <th>Albumin</th>\n",
       "      <th>Albumin_and_Globulin_Ratio</th>\n",
       "      <th>Class</th>\n",
       "    </tr>\n",
       "  </thead>\n",
       "  <tbody>\n",
       "    <tr>\n",
       "      <th>1</th>\n",
       "      <td>65</td>\n",
       "      <td>0.7</td>\n",
       "      <td>0.1</td>\n",
       "      <td>187</td>\n",
       "      <td>16</td>\n",
       "      <td>18</td>\n",
       "      <td>3.3</td>\n",
       "      <td>0.90</td>\n",
       "      <td>0</td>\n",
       "    </tr>\n",
       "    <tr>\n",
       "      <th>2</th>\n",
       "      <td>62</td>\n",
       "      <td>10.9</td>\n",
       "      <td>5.5</td>\n",
       "      <td>699</td>\n",
       "      <td>64</td>\n",
       "      <td>100</td>\n",
       "      <td>3.2</td>\n",
       "      <td>0.74</td>\n",
       "      <td>0</td>\n",
       "    </tr>\n",
       "    <tr>\n",
       "      <th>3</th>\n",
       "      <td>62</td>\n",
       "      <td>7.3</td>\n",
       "      <td>4.1</td>\n",
       "      <td>490</td>\n",
       "      <td>60</td>\n",
       "      <td>68</td>\n",
       "      <td>3.3</td>\n",
       "      <td>0.89</td>\n",
       "      <td>0</td>\n",
       "    </tr>\n",
       "    <tr>\n",
       "      <th>4</th>\n",
       "      <td>58</td>\n",
       "      <td>1.0</td>\n",
       "      <td>0.4</td>\n",
       "      <td>182</td>\n",
       "      <td>14</td>\n",
       "      <td>20</td>\n",
       "      <td>3.4</td>\n",
       "      <td>1.00</td>\n",
       "      <td>0</td>\n",
       "    </tr>\n",
       "    <tr>\n",
       "      <th>5</th>\n",
       "      <td>72</td>\n",
       "      <td>3.9</td>\n",
       "      <td>2.0</td>\n",
       "      <td>195</td>\n",
       "      <td>27</td>\n",
       "      <td>59</td>\n",
       "      <td>2.4</td>\n",
       "      <td>0.40</td>\n",
       "      <td>0</td>\n",
       "    </tr>\n",
       "  </tbody>\n",
       "</table>\n",
       "</div>"
      ],
      "text/plain": [
       "   Age  Total_Bilirubin  Direct_Bilirubin  Alkaline_Phosphotase  \\\n",
       "1   65              0.7               0.1                   187   \n",
       "2   62             10.9               5.5                   699   \n",
       "3   62              7.3               4.1                   490   \n",
       "4   58              1.0               0.4                   182   \n",
       "5   72              3.9               2.0                   195   \n",
       "\n",
       "   Alamine_Aminotransferase  Aspartate_Aminotransferase  Albumin  \\\n",
       "1                        16                          18      3.3   \n",
       "2                        64                         100      3.2   \n",
       "3                        60                          68      3.3   \n",
       "4                        14                          20      3.4   \n",
       "5                        27                          59      2.4   \n",
       "\n",
       "   Albumin_and_Globulin_Ratio  Class  \n",
       "1                        0.90      0  \n",
       "2                        0.74      0  \n",
       "3                        0.89      0  \n",
       "4                        1.00      0  \n",
       "5                        0.40      0  "
      ]
     },
     "execution_count": 39,
     "metadata": {},
     "output_type": "execute_result"
    }
   ],
   "source": [
    "ind_pat.head()"
   ]
  },
  {
   "cell_type": "code",
   "execution_count": 40,
   "metadata": {},
   "outputs": [],
   "source": [
    "import warnings\n",
    "warnings.filterwarnings('ignore')"
   ]
  },
  {
   "cell_type": "code",
   "execution_count": 41,
   "metadata": {},
   "outputs": [],
   "source": [
    "features = ind_pat.iloc[:,[0,1,2,3,4,5,6,7]].values\n",
    "label = ind_pat.iloc[:,8].values"
   ]
  },
  {
   "cell_type": "code",
   "execution_count": 42,
   "metadata": {},
   "outputs": [
    {
     "name": "stdout",
     "output_type": "stream",
     "text": [
      "Test Score: 0.7368421052631579 Train Score: 0.7149122807017544 Random State: 4\n",
      "Test Score: 0.7543859649122807 Train Score: 0.7192982456140351 Random State: 7\n",
      "Test Score: 0.7719298245614035 Train Score: 0.7149122807017544 Random State: 9\n",
      "Test Score: 0.7456140350877193 Train Score: 0.7171052631578947 Random State: 10\n",
      "Test Score: 0.7719298245614035 Train Score: 0.7039473684210527 Random State: 12\n",
      "Test Score: 0.7807017543859649 Train Score: 0.7039473684210527 Random State: 14\n",
      "Test Score: 0.7807017543859649 Train Score: 0.7083333333333334 Random State: 18\n",
      "Test Score: 0.7543859649122807 Train Score: 0.7083333333333334 Random State: 21\n",
      "Test Score: 0.7192982456140351 Train Score: 0.7105263157894737 Random State: 26\n",
      "Test Score: 0.7631578947368421 Train Score: 0.7171052631578947 Random State: 30\n",
      "Test Score: 0.7543859649122807 Train Score: 0.7192982456140351 Random State: 38\n",
      "Test Score: 0.7631578947368421 Train Score: 0.7083333333333334 Random State: 39\n",
      "Test Score: 0.7456140350877193 Train Score: 0.7127192982456141 Random State: 42\n",
      "Test Score: 0.7719298245614035 Train Score: 0.6951754385964912 Random State: 43\n",
      "Test Score: 0.7368421052631579 Train Score: 0.706140350877193 Random State: 45\n",
      "Test Score: 0.7456140350877193 Train Score: 0.706140350877193 Random State: 47\n",
      "Test Score: 0.7543859649122807 Train Score: 0.7258771929824561 Random State: 48\n",
      "Test Score: 0.7368421052631579 Train Score: 0.7280701754385965 Random State: 53\n",
      "Test Score: 0.7192982456140351 Train Score: 0.706140350877193 Random State: 54\n",
      "Test Score: 0.7456140350877193 Train Score: 0.7214912280701754 Random State: 56\n",
      "Test Score: 0.7368421052631579 Train Score: 0.7236842105263158 Random State: 59\n",
      "Test Score: 0.7280701754385965 Train Score: 0.7214912280701754 Random State: 60\n",
      "Test Score: 0.7894736842105263 Train Score: 0.7039473684210527 Random State: 62\n",
      "Test Score: 0.7280701754385965 Train Score: 0.7192982456140351 Random State: 64\n",
      "Test Score: 0.7456140350877193 Train Score: 0.7192982456140351 Random State: 65\n",
      "Test Score: 0.7456140350877193 Train Score: 0.7236842105263158 Random State: 68\n",
      "Test Score: 0.7368421052631579 Train Score: 0.7171052631578947 Random State: 71\n",
      "Test Score: 0.7192982456140351 Train Score: 0.7171052631578947 Random State: 73\n",
      "Test Score: 0.7456140350877193 Train Score: 0.7149122807017544 Random State: 77\n",
      "Test Score: 0.7280701754385965 Train Score: 0.7192982456140351 Random State: 80\n",
      "Test Score: 0.7456140350877193 Train Score: 0.7171052631578947 Random State: 84\n",
      "Test Score: 0.7719298245614035 Train Score: 0.706140350877193 Random State: 85\n",
      "Test Score: 0.7543859649122807 Train Score: 0.7324561403508771 Random State: 91\n",
      "Test Score: 0.7368421052631579 Train Score: 0.7236842105263158 Random State: 95\n",
      "Test Score: 0.7192982456140351 Train Score: 0.7127192982456141 Random State: 97\n",
      "Test Score: 0.7719298245614035 Train Score: 0.7149122807017544 Random State: 110\n",
      "Test Score: 0.7807017543859649 Train Score: 0.7017543859649122 Random State: 111\n",
      "Test Score: 0.7280701754385965 Train Score: 0.7149122807017544 Random State: 112\n",
      "Test Score: 0.7368421052631579 Train Score: 0.706140350877193 Random State: 115\n",
      "Test Score: 0.7368421052631579 Train Score: 0.7214912280701754 Random State: 116\n",
      "Test Score: 0.7456140350877193 Train Score: 0.7039473684210527 Random State: 119\n",
      "Test Score: 0.7368421052631579 Train Score: 0.7105263157894737 Random State: 124\n",
      "Test Score: 0.7456140350877193 Train Score: 0.7236842105263158 Random State: 127\n",
      "Test Score: 0.7456140350877193 Train Score: 0.6995614035087719 Random State: 129\n",
      "Test Score: 0.7543859649122807 Train Score: 0.7214912280701754 Random State: 130\n",
      "Test Score: 0.7543859649122807 Train Score: 0.7083333333333334 Random State: 131\n",
      "Test Score: 0.7719298245614035 Train Score: 0.7039473684210527 Random State: 133\n",
      "Test Score: 0.7456140350877193 Train Score: 0.7149122807017544 Random State: 137\n",
      "Test Score: 0.7368421052631579 Train Score: 0.7149122807017544 Random State: 141\n",
      "Test Score: 0.7280701754385965 Train Score: 0.7214912280701754 Random State: 142\n",
      "Test Score: 0.7456140350877193 Train Score: 0.7127192982456141 Random State: 143\n",
      "Test Score: 0.7192982456140351 Train Score: 0.7127192982456141 Random State: 150\n",
      "Test Score: 0.7368421052631579 Train Score: 0.7171052631578947 Random State: 152\n",
      "Test Score: 0.7368421052631579 Train Score: 0.7214912280701754 Random State: 153\n",
      "Test Score: 0.7456140350877193 Train Score: 0.7236842105263158 Random State: 156\n",
      "Test Score: 0.7456140350877193 Train Score: 0.7149122807017544 Random State: 162\n",
      "Test Score: 0.7280701754385965 Train Score: 0.7236842105263158 Random State: 164\n",
      "Test Score: 0.7631578947368421 Train Score: 0.7083333333333334 Random State: 166\n",
      "Test Score: 0.7368421052631579 Train Score: 0.706140350877193 Random State: 167\n",
      "Test Score: 0.7456140350877193 Train Score: 0.7083333333333334 Random State: 168\n",
      "Test Score: 0.7456140350877193 Train Score: 0.7171052631578947 Random State: 170\n",
      "Test Score: 0.7280701754385965 Train Score: 0.7192982456140351 Random State: 173\n",
      "Test Score: 0.7192982456140351 Train Score: 0.7127192982456141 Random State: 174\n",
      "Test Score: 0.7456140350877193 Train Score: 0.7280701754385965 Random State: 176\n",
      "Test Score: 0.7280701754385965 Train Score: 0.7171052631578947 Random State: 179\n",
      "Test Score: 0.7280701754385965 Train Score: 0.7149122807017544 Random State: 180\n",
      "Test Score: 0.7631578947368421 Train Score: 0.7017543859649122 Random State: 182\n",
      "Test Score: 0.8070175438596491 Train Score: 0.6951754385964912 Random State: 183\n",
      "Test Score: 0.7192982456140351 Train Score: 0.7171052631578947 Random State: 184\n",
      "Test Score: 0.7280701754385965 Train Score: 0.7149122807017544 Random State: 185\n",
      "Test Score: 0.7807017543859649 Train Score: 0.7192982456140351 Random State: 189\n",
      "Test Score: 0.7368421052631579 Train Score: 0.7127192982456141 Random State: 194\n",
      "Test Score: 0.7456140350877193 Train Score: 0.7171052631578947 Random State: 200\n",
      "Test Score: 0.7456140350877193 Train Score: 0.6973684210526315 Random State: 203\n",
      "Test Score: 0.7894736842105263 Train Score: 0.7017543859649122 Random State: 205\n",
      "Test Score: 0.7368421052631579 Train Score: 0.7214912280701754 Random State: 207\n",
      "Test Score: 0.7368421052631579 Train Score: 0.7236842105263158 Random State: 208\n",
      "Test Score: 0.7631578947368421 Train Score: 0.7127192982456141 Random State: 210\n",
      "Test Score: 0.7280701754385965 Train Score: 0.7236842105263158 Random State: 211\n",
      "Test Score: 0.7456140350877193 Train Score: 0.7149122807017544 Random State: 215\n",
      "Test Score: 0.7456140350877193 Train Score: 0.7149122807017544 Random State: 219\n",
      "Test Score: 0.7280701754385965 Train Score: 0.7171052631578947 Random State: 223\n",
      "Test Score: 0.7368421052631579 Train Score: 0.7149122807017544 Random State: 224\n",
      "Test Score: 0.8070175438596491 Train Score: 0.6885964912280702 Random State: 229\n",
      "Test Score: 0.7982456140350878 Train Score: 0.6929824561403509 Random State: 230\n",
      "Test Score: 0.7280701754385965 Train Score: 0.7171052631578947 Random State: 234\n",
      "Test Score: 0.7280701754385965 Train Score: 0.7236842105263158 Random State: 235\n",
      "Test Score: 0.7894736842105263 Train Score: 0.7149122807017544 Random State: 236\n",
      "Test Score: 0.7192982456140351 Train Score: 0.7105263157894737 Random State: 239\n",
      "Test Score: 0.7807017543859649 Train Score: 0.7149122807017544 Random State: 242\n",
      "Test Score: 0.7368421052631579 Train Score: 0.7171052631578947 Random State: 243\n",
      "Test Score: 0.7543859649122807 Train Score: 0.7127192982456141 Random State: 244\n",
      "Test Score: 0.7192982456140351 Train Score: 0.706140350877193 Random State: 245\n",
      "Test Score: 0.7719298245614035 Train Score: 0.7127192982456141 Random State: 250\n",
      "Test Score: 0.7982456140350878 Train Score: 0.706140350877193 Random State: 251\n",
      "Test Score: 0.7280701754385965 Train Score: 0.7149122807017544 Random State: 254\n",
      "Test Score: 0.7456140350877193 Train Score: 0.7171052631578947 Random State: 260\n",
      "Test Score: 0.7192982456140351 Train Score: 0.7149122807017544 Random State: 261\n",
      "Test Score: 0.7456140350877193 Train Score: 0.7105263157894737 Random State: 264\n",
      "Test Score: 0.7280701754385965 Train Score: 0.7171052631578947 Random State: 268\n",
      "Test Score: 0.7631578947368421 Train Score: 0.7083333333333334 Random State: 269\n",
      "Test Score: 0.7456140350877193 Train Score: 0.7192982456140351 Random State: 270\n",
      "Test Score: 0.7368421052631579 Train Score: 0.7171052631578947 Random State: 273\n",
      "Test Score: 0.7456140350877193 Train Score: 0.7171052631578947 Random State: 274\n",
      "Test Score: 0.7368421052631579 Train Score: 0.7192982456140351 Random State: 281\n",
      "Test Score: 0.7368421052631579 Train Score: 0.7171052631578947 Random State: 282\n",
      "Test Score: 0.7368421052631579 Train Score: 0.7236842105263158 Random State: 283\n",
      "Test Score: 0.8070175438596491 Train Score: 0.7105263157894737 Random State: 287\n"
     ]
    },
    {
     "name": "stdout",
     "output_type": "stream",
     "text": [
      "Test Score: 0.7456140350877193 Train Score: 0.7039473684210527 Random State: 292\n",
      "Test Score: 0.7456140350877193 Train Score: 0.7171052631578947 Random State: 297\n",
      "Test Score: 0.7807017543859649 Train Score: 0.7039473684210527 Random State: 298\n",
      "Test Score: 0.7807017543859649 Train Score: 0.7017543859649122 Random State: 299\n",
      "Test Score: 0.7456140350877193 Train Score: 0.7127192982456141 Random State: 301\n",
      "Test Score: 0.7368421052631579 Train Score: 0.7214912280701754 Random State: 303\n",
      "Test Score: 0.7368421052631579 Train Score: 0.7105263157894737 Random State: 304\n",
      "Test Score: 0.7192982456140351 Train Score: 0.7127192982456141 Random State: 305\n",
      "Test Score: 0.7631578947368421 Train Score: 0.7302631578947368 Random State: 306\n",
      "Test Score: 0.7894736842105263 Train Score: 0.7017543859649122 Random State: 307\n",
      "Test Score: 0.7543859649122807 Train Score: 0.7214912280701754 Random State: 308\n",
      "Test Score: 0.7719298245614035 Train Score: 0.7039473684210527 Random State: 311\n",
      "Test Score: 0.7631578947368421 Train Score: 0.7105263157894737 Random State: 312\n",
      "Test Score: 0.7543859649122807 Train Score: 0.7083333333333334 Random State: 313\n",
      "Test Score: 0.7456140350877193 Train Score: 0.706140350877193 Random State: 314\n",
      "Test Score: 0.7456140350877193 Train Score: 0.7083333333333334 Random State: 318\n",
      "Test Score: 0.7368421052631579 Train Score: 0.7127192982456141 Random State: 319\n",
      "Test Score: 0.7456140350877193 Train Score: 0.706140350877193 Random State: 322\n",
      "Test Score: 0.7894736842105263 Train Score: 0.7083333333333334 Random State: 325\n",
      "Test Score: 0.7192982456140351 Train Score: 0.7149122807017544 Random State: 326\n",
      "Test Score: 0.7543859649122807 Train Score: 0.7083333333333334 Random State: 329\n",
      "Test Score: 0.7280701754385965 Train Score: 0.7236842105263158 Random State: 330\n",
      "Test Score: 0.7280701754385965 Train Score: 0.7236842105263158 Random State: 333\n",
      "Test Score: 0.7368421052631579 Train Score: 0.7258771929824561 Random State: 334\n",
      "Test Score: 0.7456140350877193 Train Score: 0.7171052631578947 Random State: 335\n",
      "Test Score: 0.7456140350877193 Train Score: 0.7280701754385965 Random State: 340\n",
      "Test Score: 0.7368421052631579 Train Score: 0.7192982456140351 Random State: 347\n",
      "Test Score: 0.8157894736842105 Train Score: 0.7083333333333334 Random State: 348\n",
      "Test Score: 0.7280701754385965 Train Score: 0.7214912280701754 Random State: 350\n",
      "Test Score: 0.7631578947368421 Train Score: 0.7127192982456141 Random State: 355\n",
      "Test Score: 0.7543859649122807 Train Score: 0.7017543859649122 Random State: 361\n",
      "Test Score: 0.7631578947368421 Train Score: 0.7127192982456141 Random State: 363\n",
      "Test Score: 0.7456140350877193 Train Score: 0.706140350877193 Random State: 365\n",
      "Test Score: 0.7368421052631579 Train Score: 0.7127192982456141 Random State: 366\n",
      "Test Score: 0.7719298245614035 Train Score: 0.7017543859649122 Random State: 369\n",
      "Test Score: 0.7543859649122807 Train Score: 0.7192982456140351 Random State: 370\n",
      "Test Score: 0.7368421052631579 Train Score: 0.7149122807017544 Random State: 371\n",
      "Test Score: 0.7807017543859649 Train Score: 0.7127192982456141 Random State: 372\n",
      "Test Score: 0.7456140350877193 Train Score: 0.7171052631578947 Random State: 373\n",
      "Test Score: 0.7368421052631579 Train Score: 0.7149122807017544 Random State: 376\n",
      "Test Score: 0.7456140350877193 Train Score: 0.7280701754385965 Random State: 378\n",
      "Test Score: 0.7456140350877193 Train Score: 0.7171052631578947 Random State: 380\n",
      "Test Score: 0.7192982456140351 Train Score: 0.7127192982456141 Random State: 381\n",
      "Test Score: 0.7368421052631579 Train Score: 0.7127192982456141 Random State: 384\n",
      "Test Score: 0.7368421052631579 Train Score: 0.7127192982456141 Random State: 393\n",
      "Test Score: 0.7192982456140351 Train Score: 0.7083333333333334 Random State: 394\n",
      "Test Score: 0.7456140350877193 Train Score: 0.7127192982456141 Random State: 396\n",
      "Test Score: 0.7631578947368421 Train Score: 0.7127192982456141 Random State: 397\n"
     ]
    }
   ],
   "source": [
    "##for loop \n",
    "from sklearn.model_selection import train_test_split\n",
    "from sklearn.linear_model import LogisticRegression\n",
    "\n",
    "for i in range(1,401):\n",
    "    X_train,X_test,y_train,y_test=train_test_split(features,\n",
    "                                                  label,\n",
    "                                                  test_size=0.2,\n",
    "                                                  random_state=i)\n",
    "    \n",
    "    model = LogisticRegression()\n",
    "    model.fit(X_train,y_train)\n",
    "    \n",
    "    train_score=model.score(X_train,y_train)\n",
    "    test_score=model.score(X_test,y_test)\n",
    "    \n",
    "    if test_score > train_score:\n",
    "        print(\"Test Score: {} Train Score: {} Random State: {}\".format(test_score,train_score,i))"
   ]
  },
  {
   "cell_type": "markdown",
   "metadata": {},
   "source": [
    "After checking the random_state,test score and train score we have come up to a solution that\n",
    "the random_state_287 gives best result\n"
   ]
  },
  {
   "cell_type": "code",
   "execution_count": 43,
   "metadata": {},
   "outputs": [
    {
     "name": "stdout",
     "output_type": "stream",
     "text": [
      "0.7105263157894737\n",
      "0.8070175438596491\n"
     ]
    }
   ],
   "source": [
    "#now by giving the random_state 267 we will create a logistic model \n",
    "from sklearn.model_selection import train_test_split\n",
    "from sklearn.linear_model import LogisticRegression\n",
    "\n",
    "X_train,X_test,y_train,y_test=train_test_split(features,\n",
    "                                                  label,\n",
    "                                                  test_size=0.2,\n",
    "                                                  random_state=287)\n",
    "    \n",
    "model = LogisticRegression()\n",
    "model.fit(X_train,y_train)\n",
    "print(model.score(X_train,y_train))\n",
    "print(model.score(X_test,y_test))"
   ]
  },
  {
   "cell_type": "code",
   "execution_count": 44,
   "metadata": {},
   "outputs": [
    {
     "name": "stdout",
     "output_type": "stream",
     "text": [
      "              precision    recall  f1-score   support\n",
      "\n",
      "           0       0.75      0.93      0.83       406\n",
      "           1       0.58      0.23      0.33       164\n",
      "\n",
      "   micro avg       0.73      0.73      0.73       570\n",
      "   macro avg       0.66      0.58      0.58       570\n",
      "weighted avg       0.70      0.73      0.69       570\n",
      "\n"
     ]
    }
   ],
   "source": [
    "from sklearn.metrics import classification_report\n",
    "#print(classification_report())\n",
    "print(classification_report(label,model.predict(features)))"
   ]
  },
  {
   "cell_type": "markdown",
   "metadata": {},
   "source": [
    "# accuracy of test model"
   ]
  },
  {
   "cell_type": "code",
   "execution_count": 48,
   "metadata": {},
   "outputs": [
    {
     "name": "stdout",
     "output_type": "stream",
     "text": [
      "0.8070175438596491\n"
     ]
    }
   ],
   "source": [
    "from sklearn.metrics import accuracy_score\n",
    "print (accuracy_score(y_test,model.predict(X_test)))"
   ]
  },
  {
   "cell_type": "markdown",
   "metadata": {},
   "source": [
    "here are the train score test score and classification report"
   ]
  },
  {
   "cell_type": "code",
   "execution_count": 49,
   "metadata": {},
   "outputs": [
    {
     "name": "stdout",
     "output_type": "stream",
     "text": [
      "model is balanced\n",
      "Train score :  0.7105263157894737\n",
      "Test score:  0.8070175438596491\n",
      "[[378  28]\n",
      " [126  38]]\n"
     ]
    }
   ],
   "source": [
    "from sklearn.metrics import confusion_matrix\n",
    "trainscor=(model.score(X_train,y_train))\n",
    "testscor=(model.score(X_test,y_test))\n",
    "cm = confusion_matrix(label,model.predict(features))\n",
    "if testscor > trainscor:\n",
    "    print('model is balanced')\n",
    "    print(\"Train score : \",trainscor)\n",
    "    print(\"Test score: \",testscor)\n",
    "    print(cm)\n",
    "else:\n",
    "    print('model is not balanced')"
   ]
  },
  {
   "cell_type": "code",
   "execution_count": null,
   "metadata": {},
   "outputs": [],
   "source": []
  }
 ],
 "metadata": {
  "kernelspec": {
   "display_name": "Python 3",
   "language": "python",
   "name": "python3"
  },
  "language_info": {
   "codemirror_mode": {
    "name": "ipython",
    "version": 3
   },
   "file_extension": ".py",
   "mimetype": "text/x-python",
   "name": "python",
   "nbconvert_exporter": "python",
   "pygments_lexer": "ipython3",
   "version": "3.7.3"
  }
 },
 "nbformat": 4,
 "nbformat_minor": 2
}
